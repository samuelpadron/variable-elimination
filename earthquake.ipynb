{
 "cells": [
  {
   "cell_type": "code",
   "execution_count": 1,
   "id": "5ae38de2-f21f-4d15-833d-90024b6dd5ba",
   "metadata": {},
   "outputs": [],
   "source": [
    "from aipython.probFactors import Prob\n",
    "from aipython.probGraphicalModels import Belief_network\n",
    "from aipython.probVariables import Variable\n",
    "from aipython.probFactors import Prob\n",
    "from aipython.probVariables import Variable\n",
    "from aipython.utilities import Displayable\n",
    "\n",
    "boolean = [True, False]\n",
    "\n",
    "Burglary = Variable(\"Burglary\", boolean)\n",
    "Earthquake = Variable(\"Earthquake\", boolean)\n",
    "Alarm = Variable(\"Alarm\", boolean)\n",
    "JohnCalls = Variable(\"JohnCalls\", boolean)\n",
    "MaryCalls = Variable(\"MaryCalls\", boolean)\n",
    "\n",
    "f_Burglary = Prob(Burglary, [], [0.01, 0.99])\n",
    "f_Earthquake = Prob(Earthquake, [], [0.02, 0.98])\n",
    "f_Alarm = Prob(Alarm, [Burglary, Earthquake], [0.95, 0.05, 0.94, 0.06, 0.29, 0.71, 0.001, 0.999])\n",
    "f_JohnCalls = Prob(JohnCalls, [Alarm], [0.9, 0.1, 0.05, 0.95])\n",
    "f_MaryCalls = Prob(MaryCalls, [Alarm], [0.7, 0.3, 0.01, 0.99])\n",
    "\n",
    "#http://artint.info/AIPython/aipython.pdf#page=137\n",
    "\n",
    "bn_earthquake = Belief_network(vars=[Burglary, Earthquake, Alarm, JohnCalls, MaryCalls], \n",
    "                               factors=[f_Burglary, f_Earthquake, f_Alarm, f_JohnCalls, f_MaryCalls], positions={})\n"
   ]
  },
  {
   "cell_type": "code",
   "execution_count": 2,
   "id": "27ecf290-a920-4625-8675-1020dbf41a42",
   "metadata": {},
   "outputs": [
    {
     "name": "stdout",
     "output_type": "stream",
     "text": [
      "eliminating  Burglary\n",
      "Multiplying: ['f176(Burglary)', 'f178(Burglary,Earthquake,Alarm)']\n",
      "Creating factor: f181(Earthquake,Alarm)\n",
      "Factor in detail Earthquake\tAlarm\tf181\n",
      "True\tTrue\t0.2966\n",
      "True\tFalse\t0.7033999999999999\n",
      "False\tTrue\t0.01039\n",
      "False\tFalse\t0.98961\n",
      "\n",
      "eliminating  Earthquake\n",
      "Multiplying: ['f177(Earthquake)', 'f181(Earthquake,Alarm)']\n",
      "Creating factor: f182(Alarm)\n",
      "Factor in detail Alarm\tf182\n",
      "True\t0.0161142\n",
      "False\t0.9838857999999999\n",
      "\n",
      "eliminating  Alarm\n",
      "Multiplying: ['f179(Alarm,JohnCalls)', 'f180(Alarm,MaryCalls)', 'f182(Alarm)']\n",
      "Creating factor: f183(JohnCalls,MaryCalls)\n",
      "Factor in detail JohnCalls\tMaryCalls\tf183\n",
      "True\tTrue\t0.010643888899999999\n",
      "True\tFalse\t0.0530531811\n",
      "False\tTrue\t0.010474909099999999\n",
      "False\tFalse\t0.9258280208999999\n",
      "\n",
      "eliminating  JohnCalls\n",
      "Multiplying: ['f183(JohnCalls,MaryCalls)']\n",
      "Creating factor: f184(MaryCalls)\n",
      "Factor in detail MaryCalls\tf184\n",
      "True\t0.021118797999999998\n",
      "False\t0.978881202\n",
      "\n",
      "eliminating  MaryCalls\n",
      "Multiplying: ['f184(MaryCalls)']\n",
      "Creating factor: f185()\n",
      "Factor in detail f185\n",
      "1.0\n",
      "\n"
     ]
    },
    {
     "ename": "AttributeError",
     "evalue": "'tuple' object has no attribute 'domain'",
     "output_type": "error",
     "traceback": [
      "\u001b[0;31m---------------------------------------------------------------------------\u001b[0m",
      "\u001b[0;31mAttributeError\u001b[0m                            Traceback (most recent call last)",
      "Cell \u001b[0;32mIn[2], line 5\u001b[0m\n\u001b[1;32m      2\u001b[0m \u001b[39mfrom\u001b[39;00m \u001b[39maipython\u001b[39;00m\u001b[39m.\u001b[39;00m\u001b[39mprobVE\u001b[39;00m \u001b[39mimport\u001b[39;00m \u001b[39m*\u001b[39m\n\u001b[1;32m      4\u001b[0m bn_earthquake_v \u001b[39m=\u001b[39m VE(bn_earthquake)\n\u001b[0;32m----> 5\u001b[0m bn_earthquake_v\u001b[39m.\u001b[39;49mquery(var\u001b[39m=\u001b[39;49m(Earthquake, Burglary), obs\u001b[39m=\u001b[39;49m{Alarm: \u001b[39mTrue\u001b[39;49;00m})\n",
      "File \u001b[0;32m~/Documents/Code/AISpace2-0.8.11/aipython/probVE.py:42\u001b[0m, in \u001b[0;36mVE.query\u001b[0;34m(self, var, obs, elim_order)\u001b[0m\n\u001b[1;32m     40\u001b[0m     \u001b[39mif\u001b[39;00m v \u001b[39m!=\u001b[39m var \u001b[39mand\u001b[39;00m v \u001b[39mnot\u001b[39;00m \u001b[39min\u001b[39;00m obs:\n\u001b[1;32m     41\u001b[0m         projFactors \u001b[39m=\u001b[39m \u001b[39mself\u001b[39m\u001b[39m.\u001b[39meliminate_var(projFactors, v)\n\u001b[0;32m---> 42\u001b[0m unnorm \u001b[39m=\u001b[39m factor_times(var, projFactors)\n\u001b[1;32m     43\u001b[0m p_obs \u001b[39m=\u001b[39m \u001b[39msum\u001b[39m(unnorm)\n\u001b[1;32m     44\u001b[0m \u001b[39mself\u001b[39m\u001b[39m.\u001b[39mdisplay(\u001b[39m1\u001b[39m, \u001b[39m\"\u001b[39m\u001b[39mUnnormalized probs:\u001b[39m\u001b[39m\"\u001b[39m, unnorm, \u001b[39m\"\u001b[39m\u001b[39mProb obs:\u001b[39m\u001b[39m\"\u001b[39m, p_obs)\n",
      "File \u001b[0;32m~/Documents/Code/AISpace2-0.8.11/aipython/probFactors.py:139\u001b[0m, in \u001b[0;36mfactor_times\u001b[0;34m(variable, factors)\u001b[0m\n\u001b[1;32m    137\u001b[0m prods \u001b[39m=\u001b[39m []\n\u001b[1;32m    138\u001b[0m facs \u001b[39m=\u001b[39m [f \u001b[39mfor\u001b[39;00m f \u001b[39min\u001b[39;00m factors \u001b[39mif\u001b[39;00m variable \u001b[39min\u001b[39;00m f\u001b[39m.\u001b[39mvariables]\n\u001b[0;32m--> 139\u001b[0m \u001b[39mfor\u001b[39;00m val \u001b[39min\u001b[39;00m variable\u001b[39m.\u001b[39;49mdomain:\n\u001b[1;32m    140\u001b[0m     prod \u001b[39m=\u001b[39m \u001b[39m1\u001b[39m\n\u001b[1;32m    141\u001b[0m     ast \u001b[39m=\u001b[39m {variable: val}\n",
      "\u001b[0;31mAttributeError\u001b[0m: 'tuple' object has no attribute 'domain'"
     ]
    }
   ],
   "source": [
    "from aipython.probBayesianNetwork import Bayesian_Network\n",
    "from aipython.probVE import *\n",
    "\n",
    "bn_earthquake_v = VE(bn_earthquake)\n",
    "bn_earthquake_v.query(var=MaryCalls, obs={Burglary: True})\n"
   ]
  }
 ],
 "metadata": {
  "kernelspec": {
   "display_name": "Python 3.10.6 64-bit",
   "language": "python",
   "name": "python3"
  },
  "language_info": {
   "codemirror_mode": {
    "name": "ipython",
    "version": 3
   },
   "file_extension": ".py",
   "mimetype": "text/x-python",
   "name": "python",
   "nbconvert_exporter": "python",
   "pygments_lexer": "ipython3",
   "version": "3.10.6"
  },
  "vscode": {
   "interpreter": {
    "hash": "31f2aee4e71d21fbe5cf8b01ff0e069b9275f58929596ceb00d14d90e3e16cd6"
   }
  }
 },
 "nbformat": 4,
 "nbformat_minor": 5
}
