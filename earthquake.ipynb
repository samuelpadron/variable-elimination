{
 "cells": [
  {
   "cell_type": "code",
   "execution_count": 3,
   "id": "5ae38de2-f21f-4d15-833d-90024b6dd5ba",
   "metadata": {},
   "outputs": [],
   "source": [
    "from aipython.probFactors import Prob\n",
    "from aipython.probGraphicalModels import Belief_network\n",
    "from aipython.probVariables import Variable\n",
    "from aipython.probFactors import Prob\n",
    "from aipython.probVariables import Variable\n",
    "from aipython.utilities import Displayable\n",
    "\n",
    "boolean = [True, False]\n",
    "\n",
    "Burglary = Variable(\"Burglary\", boolean)\n",
    "Earthquake = Variable(\"Earthquake\", boolean)\n",
    "Alarm = Variable(\"Alarm\", boolean)\n",
    "JohnCalls = Variable(\"JohnCalls\", boolean)\n",
    "MaryCalls = Variable(\"MaryCalls\", boolean)\n",
    "\n",
    "f_Burglary = Prob(Burglary, [], [0.01, 0.99])\n",
    "f_Earthquake = Prob(Earthquake, [], [0.02, 0.98])\n",
    "f_Alarm = Prob(Alarm, [Burglary, Earthquake], [0.95, 0.05, 0.94, 0.06, 0.29, 0.71, 0.001, 0.999])\n",
    "f_JohnCalls = Prob(JohnCalls, [Alarm], [0.9, 0.1, 0.05, 0.95])\n",
    "f_MaryCalls = Prob(MaryCalls, [Alarm], [0.7, 0.3, 0.01, 0.99])\n",
    "\n",
    "#http://artint.info/AIPython/aipython.pdf#page=137\n",
    "\n",
    "bn_earthquake = Belief_network(vars=[Burglary, Earthquake, Alarm, JohnCalls, MaryCalls], \n",
    "                               factors=[f_Burglary, f_Earthquake, f_Alarm, f_JohnCalls, f_MaryCalls], positions={})\n"
   ]
  },
  {
   "cell_type": "code",
   "execution_count": 4,
   "id": "27ecf290-a920-4625-8675-1020dbf41a42",
   "metadata": {},
   "outputs": [
    {
     "name": "stdout",
     "output_type": "stream",
     "text": [
      "eliminating  Earthquake\n",
      "Multiplying: ['f187(Earthquake)', 'f192(Earthquake,Alarm)']\n",
      "Creating factor: f193(Alarm)\n",
      "Factor in detail Alarm\tf193\n",
      "True\t0.9401999999999999\n",
      "False\t0.0598\n",
      "\n",
      "eliminating  Alarm\n",
      "Multiplying: ['f189(Alarm,JohnCalls)', 'f190(Alarm,MaryCalls)', 'f193(Alarm)']\n",
      "Creating factor: f194(JohnCalls,MaryCalls)\n",
      "Factor in detail JohnCalls\tMaryCalls\tf194\n",
      "True\tTrue\t0.5923558999999999\n",
      "True\tFalse\t0.25681410000000005\n",
      "False\tTrue\t0.06638209999999999\n",
      "False\tFalse\t0.08444789999999999\n",
      "\n",
      "eliminating  JohnCalls\n",
      "Multiplying: ['f194(JohnCalls,MaryCalls)']\n",
      "Creating factor: f195(MaryCalls)\n",
      "Factor in detail MaryCalls\tf195\n",
      "True\t0.6587379999999999\n",
      "False\t0.34126200000000007\n",
      "\n",
      "Unnormalized probs: [0.6587379999999999, 0.34126200000000007] Prob obs: 1.0\n"
     ]
    },
    {
     "data": {
      "text/plain": [
       "{True: 0.6587379999999999, False: 0.34126200000000007}"
      ]
     },
     "execution_count": 4,
     "metadata": {},
     "output_type": "execute_result"
    }
   ],
   "source": [
    "from aipython.probBayesianNetwork import Bayesian_Network\n",
    "from aipython.probVE import *\n",
    "\n",
    "bn_earthquake_v = VE(bn_earthquake)\n",
    "bn_earthquake_v.query(var=MaryCalls, obs={Burglary: True})\n"
   ]
  }
 ],
 "metadata": {
  "kernelspec": {
   "display_name": "Python 3.10.6 64-bit",
   "language": "python",
   "name": "python3"
  },
  "language_info": {
   "codemirror_mode": {
    "name": "ipython",
    "version": 3
   },
   "file_extension": ".py",
   "mimetype": "text/x-python",
   "name": "python",
   "nbconvert_exporter": "python",
   "pygments_lexer": "ipython3",
   "version": "3.10.6"
  },
  "vscode": {
   "interpreter": {
    "hash": "31f2aee4e71d21fbe5cf8b01ff0e069b9275f58929596ceb00d14d90e3e16cd6"
   }
  }
 },
 "nbformat": 4,
 "nbformat_minor": 5
}
