{
 "cells": [
  {
   "cell_type": "code",
   "execution_count": 1,
   "id": "5ae38de2-f21f-4d15-833d-90024b6dd5ba",
   "metadata": {},
   "outputs": [],
   "source": [
    "from aipython.probFactors import Prob\n",
    "from aipython.probGraphicalModels import Belief_network\n",
    "from aipython.probVariables import Variable\n",
    "from aipython.probFactors import Prob\n",
    "from aipython.probVariables import Variable\n",
    "from aipython.utilities import Displayable\n",
    "\n",
    "boolean = [True, False]\n",
    "\n",
    "Burglary = Variable(\"Burglary\", boolean)\n",
    "Earthquake = Variable(\"Earthquake\", boolean)\n",
    "Alarm = Variable(\"Alarm\", boolean)\n",
    "JohnCalls = Variable(\"JohnCalls\", boolean)\n",
    "MaryCalls = Variable(\"MaryCalls\", boolean)\n",
    "\n",
    "f_Burglary = Prob(Burglary, [], [0.01, 0.99])\n",
    "f_Earthquake = Prob(Earthquake, [], [0.02, 0.98])\n",
    "f_Alarm = Prob(Alarm, [Burglary, Earthquake], [0.95, 0.05, 0.94, 0.06, 0.29, 0.71, 0.001, 0.999])\n",
    "f_JohnCalls = Prob(JohnCalls, [Alarm], [0.9, 0.1, 0.05, 0.95])\n",
    "f_MaryCalls = Prob(MaryCalls, [Alarm], [0.7, 0.3, 0.01, 0.99])\n",
    "\n",
    "#http://artint.info/AIPython/aipython.pdf#page=137\n",
    "\n",
    "bn_earthquake = Belief_network(vars=[Burglary, Earthquake, Alarm, JohnCalls, MaryCalls], \n",
    "                               factors=[f_Burglary, f_Earthquake, f_Alarm, f_JohnCalls, f_MaryCalls], positions={})\n"
   ]
  },
  {
   "cell_type": "code",
   "execution_count": 2,
   "id": "27ecf290-a920-4625-8675-1020dbf41a42",
   "metadata": {},
   "outputs": [
    {
     "name": "stdout",
     "output_type": "stream",
     "text": [
      "eliminating  Burglary\n",
      "Multiplying: ['f176(Burglary)', 'f178(Burglary,Earthquake,Alarm)']\n",
      "Creating factor: f181(Earthquake,Alarm)\n",
      "Factor in detail Earthquake\tAlarm\tf181\n",
      "True\tTrue\t0.9400999999999999\n",
      "True\tFalse\t0.059899999999999995\n",
      "False\tTrue\t0.00389\n",
      "False\tFalse\t0.9961099999999999\n",
      "\n",
      "eliminating  Earthquake\n",
      "Multiplying: ['f177(Earthquake)', 'f181(Earthquake,Alarm)']\n",
      "Creating factor: f182(Alarm)\n",
      "Factor in detail Alarm\tf182\n",
      "True\t0.022614199999999997\n",
      "False\t0.9773858\n",
      "\n",
      "eliminating  Alarm\n",
      "Multiplying: ['f179(Alarm,JohnCalls)', 'f180(Alarm,MaryCalls)', 'f182(Alarm)']\n",
      "Creating factor: f183(JohnCalls,MaryCalls)\n",
      "Factor in detail JohnCalls\tMaryCalls\tf183\n",
      "True\tTrue\t0.014735638899999999\n",
      "True\tFalse\t0.054486431099999996\n",
      "False\tTrue\t0.010868159099999998\n",
      "False\tFalse\t0.9199097709\n",
      "\n",
      "eliminating  JohnCalls\n",
      "Multiplying: ['f183(JohnCalls,MaryCalls)']\n",
      "Creating factor: f184(MaryCalls)\n",
      "Factor in detail MaryCalls\tf184\n",
      "True\t0.025603797999999997\n",
      "False\t0.974396202\n",
      "\n",
      "eliminating  MaryCalls\n",
      "Multiplying: ['f184(MaryCalls)']\n",
      "Creating factor: f185()\n",
      "Factor in detail f185\n",
      "1.0\n",
      "\n",
      "Unnormalized probs: [1, 1] Prob obs: 2\n"
     ]
    },
    {
     "data": {
      "text/plain": [
       "{'True': 0.5, 'False': 0.5}"
      ]
     },
     "execution_count": 2,
     "metadata": {},
     "output_type": "execute_result"
    }
   ],
   "source": [
    "from aipython.probBayesianNetwork import Bayesian_Network\n",
    "from aipython.probVE import *\n",
    "\n",
    "bn_earthquake_v = VE(bn_earthquake)\n",
    "bn_earthquake_v.query(Alarm, {})\n"
   ]
  }
 ],
 "metadata": {
  "kernelspec": {
   "display_name": "Python 3.10.6 64-bit",
   "language": "python",
   "name": "python3"
  },
  "language_info": {
   "codemirror_mode": {
    "name": "ipython",
    "version": 3
   },
   "file_extension": ".py",
   "mimetype": "text/x-python",
   "name": "python",
   "nbconvert_exporter": "python",
   "pygments_lexer": "ipython3",
   "version": "3.10.6 (main, Nov  2 2022, 18:53:38) [GCC 11.3.0]"
  },
  "vscode": {
   "interpreter": {
    "hash": "31f2aee4e71d21fbe5cf8b01ff0e069b9275f58929596ceb00d14d90e3e16cd6"
   }
  }
 },
 "nbformat": 4,
 "nbformat_minor": 5
}
