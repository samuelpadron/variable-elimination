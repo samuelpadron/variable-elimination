{
 "cells": [
  {
   "cell_type": "code",
   "execution_count": 5,
   "id": "5ae38de2-f21f-4d15-833d-90024b6dd5ba",
   "metadata": {},
   "outputs": [],
   "source": [
    "from aipython.probFactors import Prob\n",
    "from aipython.probGraphicalModels import Belief_network\n",
    "from aipython.probVariables import Variable\n",
    "from aipython.probFactors import Prob\n",
    "from aipython.probVariables import Variable\n",
    "from aipython.utilities import Displayable\n",
    "\n",
    "boolean = [True, False]\n",
    "\n",
    "Burglary = Variable(\"Burglary\", boolean)\n",
    "Earthquake = Variable(\"Earthquake\", boolean)\n",
    "Alarm = Variable(\"Alarm\", boolean)\n",
    "JohnCalls = Variable(\"JohnCalls\", boolean)\n",
    "MaryCalls = Variable(\"MaryCalls\", boolean)\n",
    "\n",
    "f_Burglary = Prob(Burglary, [], [0.01, 0.99])\n",
    "f_Earthquake = Prob(Earthquake, [], [0.02, 0.98])\n",
    "f_Alarm = Prob(Alarm, [Burglary, Earthquake], [0.95, 0.05, 0.94, 0.06, 0.29, 0.71, 0.001, 0.999])\n",
    "f_JohnCalls = Prob(JohnCalls, [Alarm], [0.9, 0.1, 0.05, 0.95])\n",
    "f_MaryCalls = Prob(MaryCalls, [Alarm], [0.7, 0.3, 0.01, 0.99])\n",
    "\n",
    "#http://artint.info/AIPython/aipython.pdf#page=137\n",
    "\n",
    "bn_earthquake = Belief_network(vars=[Burglary, Earthquake, Alarm, JohnCalls, MaryCalls], \n",
    "                               factors=[f_Burglary, f_Earthquake, f_Alarm, f_JohnCalls, f_MaryCalls], positions={})\n"
   ]
  },
  {
   "cell_type": "code",
   "execution_count": 6,
   "id": "27ecf290-a920-4625-8675-1020dbf41a42",
   "metadata": {},
   "outputs": [
    {
     "ename": "TypeError",
     "evalue": "unhashable type: 'list'",
     "output_type": "error",
     "traceback": [
      "\u001b[0;31m---------------------------------------------------------------------------\u001b[0m",
      "\u001b[0;31mTypeError\u001b[0m                                 Traceback (most recent call last)",
      "Cell \u001b[0;32mIn[6], line 5\u001b[0m\n\u001b[1;32m      2\u001b[0m \u001b[39mfrom\u001b[39;00m \u001b[39maipython\u001b[39;00m\u001b[39m.\u001b[39;00m\u001b[39mprobVE\u001b[39;00m \u001b[39mimport\u001b[39;00m \u001b[39m*\u001b[39m\n\u001b[1;32m      4\u001b[0m bn_earthquake_v \u001b[39m=\u001b[39m VE(bn_earthquake)\n\u001b[0;32m----> 5\u001b[0m bn_earthquake_v\u001b[39m.\u001b[39;49mquery(var\u001b[39m=\u001b[39;49m[Earthquake, Burglary], obs\u001b[39m=\u001b[39;49m{Alarm: \u001b[39mTrue\u001b[39;49;00m})\n",
      "File \u001b[0;32m~/Documents/Code/AISpace2-0.8.11/aipython/probVE.py:32\u001b[0m, in \u001b[0;36mVE.query\u001b[0;34m(self, var, obs, elim_order)\u001b[0m\n\u001b[1;32m     28\u001b[0m \u001b[39mdef\u001b[39;00m \u001b[39mquery\u001b[39m(\u001b[39mself\u001b[39m, var, obs\u001b[39m=\u001b[39m{}, elim_order\u001b[39m=\u001b[39m\u001b[39mNone\u001b[39;00m):\n\u001b[1;32m     29\u001b[0m     \u001b[39m\"\"\"computes P(var|obs) where\u001b[39;00m\n\u001b[1;32m     30\u001b[0m \u001b[39m    var is a variable\u001b[39;00m\n\u001b[1;32m     31\u001b[0m \u001b[39m    obs is a variable:value dictionary\"\"\"\u001b[39;00m\n\u001b[0;32m---> 32\u001b[0m     \u001b[39mif\u001b[39;00m var \u001b[39min\u001b[39;49;00m obs:\n\u001b[1;32m     33\u001b[0m         \u001b[39mreturn\u001b[39;00m {val: \u001b[39m1\u001b[39m \u001b[39mif\u001b[39;00m val \u001b[39m==\u001b[39m obs[var] \u001b[39melse\u001b[39;00m \u001b[39m0\u001b[39m \u001b[39mfor\u001b[39;00m val \u001b[39min\u001b[39;00m var\u001b[39m.\u001b[39mdomain}\n\u001b[1;32m     34\u001b[0m     \u001b[39melse\u001b[39;00m:\n",
      "\u001b[0;31mTypeError\u001b[0m: unhashable type: 'list'"
     ]
    }
   ],
   "source": [
    "from aipython.probBayesianNetwork import Bayesian_Network\n",
    "from aipython.probVE import *\n",
    "\n",
    "bn_earthquake_v = VE(bn_earthquake)\n",
    "bn_earthquake_v.query(var=(Earthquake, Burglary), obs={Alarm: True})\n"
   ]
  }
 ],
 "metadata": {
  "kernelspec": {
   "display_name": "Python 3.10.6 64-bit",
   "language": "python",
   "name": "python3"
  },
  "language_info": {
   "codemirror_mode": {
    "name": "ipython",
    "version": 3
   },
   "file_extension": ".py",
   "mimetype": "text/x-python",
   "name": "python",
   "nbconvert_exporter": "python",
   "pygments_lexer": "ipython3",
   "version": "3.10.6 (main, Nov  2 2022, 18:53:38) [GCC 11.3.0]"
  },
  "vscode": {
   "interpreter": {
    "hash": "31f2aee4e71d21fbe5cf8b01ff0e069b9275f58929596ceb00d14d90e3e16cd6"
   }
  }
 },
 "nbformat": 4,
 "nbformat_minor": 5
}
