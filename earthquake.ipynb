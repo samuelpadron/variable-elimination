{
 "cells": [
  {
   "cell_type": "code",
   "execution_count": 1,
   "id": "5ae38de2-f21f-4d15-833d-90024b6dd5ba",
   "metadata": {},
   "outputs": [],
   "source": [
    "from aipython.probFactors import Prob\n",
    "from aipython.probGraphicalModels import Belief_network\n",
    "from aipython.probVariables import Variable\n",
    "from aipython.probFactors import Prob\n",
    "from aipython.probVariables import Variable\n",
    "from aipython.utilities import Displayable\n",
    "\n",
    "Burglary = Variable(\"Burglary\", [True, False])\n",
    "Earthquake = Variable(\"Earthquake\", [True, False])\n",
    "Alarm = Variable(\"Alarm\", [True, False])\n",
    "JohnCalls = Variable(\"JohnCalls\", [True, False])\n",
    "MaryCalls = Variable(\"MaryCalls\", [True, False])\n",
    "\n",
    "f_Burglary = Prob(Burglary, [], [0.1, 0.99])\n",
    "f_Earthquake = Prob(Earthquake, [], [0.02, 0.98])\n",
    "f_Alarm = Prob(Alarm, [Burglary, Earthquake], [0.95, 0.05, 0.29, 0.71, 0.94, 0.06, 0.001, 0.999])\n",
    "f_JohnCalls = Prob(JohnCalls, [Alarm], [0.9, 0.1, 0.05, 0.95])\n",
    "f_MaryCalls = Prob(MaryCalls, [Alarm], [0.7, 0.3, 0.01, 0.99])\n",
    "\n",
    "\n",
    "\n",
    "bn_earthquake = Belief_network([Burglary, Earthquake, Alarm, JohnCalls, MaryCalls], \n",
    "                               [f_Burglary, f_Earthquake, f_Alarm, f_JohnCalls, f_MaryCalls], [])\n"
   ]
  },
  {
   "cell_type": "code",
   "execution_count": 2,
   "id": "27ecf290-a920-4625-8675-1020dbf41a42",
   "metadata": {},
   "outputs": [
    {
     "name": "stdout",
     "output_type": "stream",
     "text": [
      "eliminating  Burglary\n",
      "Multiplying: ['f176(Burglary)', 'f182(Burglary,Alarm)']\n",
      "Creating factor: f183(Alarm)\n",
      "Factor in detail Alarm\tf183\n",
      "True\t1.0256\n",
      "False\t0.0644\n",
      "\n",
      "eliminating  Alarm\n",
      "Multiplying: ['f179(Alarm,JohnCalls)', 'f180(Alarm,MaryCalls)', 'f183(Alarm)']\n",
      "Creating factor: f184(JohnCalls,MaryCalls)\n",
      "Factor in detail JohnCalls\tMaryCalls\tf184\n",
      "True\tTrue\t0.6461602000000001\n",
      "True\tFalse\t0.28009980000000007\n",
      "False\tTrue\t0.07240379999999999\n",
      "False\tFalse\t0.0913362\n",
      "\n",
      "eliminating  JohnCalls\n",
      "Multiplying: ['f184(JohnCalls,MaryCalls)']\n",
      "Creating factor: f185(MaryCalls)\n",
      "Factor in detail MaryCalls\tf185\n",
      "True\t0.7185640000000001\n",
      "False\t0.3714360000000001\n",
      "\n",
      "eliminating  MaryCalls\n",
      "Multiplying: ['f185(MaryCalls)']\n",
      "Creating factor: f186()\n",
      "Factor in detail f186\n",
      "1.0900000000000003\n",
      "\n",
      "Unnormalized probs: [1, 1] Prob obs: 2\n"
     ]
    },
    {
     "data": {
      "text/plain": [
       "{'True': 0.5, 'False': 0.5}"
      ]
     },
     "execution_count": 2,
     "metadata": {},
     "output_type": "execute_result"
    }
   ],
   "source": [
    "from aipython.probBayesianNetwork import Bayesian_Network\n",
    "from aipython.probVE import *\n",
    "\n",
    "bn_earthquake_v = VE(bn_earthquake)\n",
    "bn_earthquake_v.query(Alarm, {Earthquake:True})\n"
   ]
  },
  {
   "cell_type": "code",
   "execution_count": null,
   "id": "346c5004-1ebd-4e58-a124-095b68da51e5",
   "metadata": {},
   "outputs": [],
   "source": []
  }
 ],
 "metadata": {
  "kernelspec": {
   "display_name": "Python 3.10.6 64-bit",
   "language": "python",
   "name": "python3"
  },
  "language_info": {
   "codemirror_mode": {
    "name": "ipython",
    "version": 3
   },
   "file_extension": ".py",
   "mimetype": "text/x-python",
   "name": "python",
   "nbconvert_exporter": "python",
   "pygments_lexer": "ipython3",
   "version": "3.10.6"
  },
  "vscode": {
   "interpreter": {
    "hash": "31f2aee4e71d21fbe5cf8b01ff0e069b9275f58929596ceb00d14d90e3e16cd6"
   }
  }
 },
 "nbformat": 4,
 "nbformat_minor": 5
}
